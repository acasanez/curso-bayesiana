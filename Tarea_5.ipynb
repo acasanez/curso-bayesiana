{
  "nbformat": 4,
  "nbformat_minor": 0,
  "metadata": {
    "colab": {
      "name": "Untitled2.ipynb",
      "provenance": [],
      "authorship_tag": "ABX9TyP01wdvYWem6Ek6y+gxOp8/",
      "include_colab_link": true
    },
    "kernelspec": {
      "name": "python3",
      "display_name": "Python 3"
    },
    "language_info": {
      "name": "python"
    }
  },
  "cells": [
    {
      "cell_type": "markdown",
      "metadata": {
        "id": "view-in-github",
        "colab_type": "text"
      },
      "source": [
        "<a href=\"https://colab.research.google.com/github/acasanez/curso-bayesiana/blob/main/Tarea_5.ipynb\" target=\"_parent\"><img src=\"https://colab.research.google.com/assets/colab-badge.svg\" alt=\"Open In Colab\"/></a>"
      ]
    },
    {
      "cell_type": "markdown",
      "source": [
        "Cargamos las librerías"
      ],
      "metadata": {
        "id": "1CfS_lY-XFS0"
      }
    },
    {
      "cell_type": "code",
      "execution_count": 1,
      "metadata": {
        "colab": {
          "base_uri": "https://localhost:8080/"
        },
        "id": "jTd4UxRsXDMp",
        "outputId": "f347ef7d-c576-4720-fda8-dac307def756"
      },
      "outputs": [
        {
          "output_type": "stream",
          "name": "stderr",
          "text": [
            "/usr/local/lib/python3.7/dist-packages/statsmodels/tools/_testing.py:19: FutureWarning: pandas.util.testing is deprecated. Use the functions in the public API at pandas.testing instead.\n",
            "  import pandas.util.testing as tm\n"
          ]
        }
      ],
      "source": [
        "import numpy as np\n",
        "import pandas as pd\n",
        "from scipy.stats import norm\n",
        "from statsmodels.stats.weightstats import ztest\n",
        "from scipy import stats"
      ]
    },
    {
      "cell_type": "markdown",
      "source": [
        "Cargamos los datos desde Github"
      ],
      "metadata": {
        "id": "F4bi3hISXOeG"
      }
    },
    {
      "cell_type": "code",
      "source": [
        "# Clone Github\n",
        "!git clone https://github.com/ecabestadistica/curso-bayesiana.git\n",
        "df_src = pd.read_csv(\"/content/curso-bayesiana/5. Inferencia tradicional A:B testing/advertisement_clicks.csv\")"
      ],
      "metadata": {
        "colab": {
          "base_uri": "https://localhost:8080/"
        },
        "id": "hLWx5bAIXWn_",
        "outputId": "5bbe75e2-ebda-4c78-ce4b-46b3a419d485"
      },
      "execution_count": 2,
      "outputs": [
        {
          "output_type": "stream",
          "name": "stdout",
          "text": [
            "Cloning into 'curso-bayesiana'...\n",
            "remote: Enumerating objects: 58, done.\u001b[K\n",
            "remote: Counting objects: 100% (58/58), done.\u001b[K\n",
            "remote: Compressing objects: 100% (48/48), done.\u001b[K\n",
            "remote: Total 58 (delta 11), reused 45 (delta 6), pack-reused 0\u001b[K\n",
            "Unpacking objects: 100% (58/58), done.\n"
          ]
        }
      ]
    },
    {
      "cell_type": "markdown",
      "source": [
        "1. El dataset contiene una variable categórica llamada \"advertisement_id\" que nos dice si ese dato es un usuario al que se le ha mostrado el anuncio A o el anuncio B.\n",
        "\n",
        "Además, contiene una variable con distribución de Bernoulli (valores 0-1) que se llama \"action\" que nos dice si el usuario ha hecho click en ese anuncio (valor 1) o no (valor 0).\n",
        "\n",
        "Haz un .head() del dataset para que las puedas ver."
      ],
      "metadata": {
        "id": "Zuw1BW6YYLLf"
      }
    },
    {
      "cell_type": "code",
      "source": [
        "df_src.head()"
      ],
      "metadata": {
        "colab": {
          "base_uri": "https://localhost:8080/",
          "height": 206
        },
        "id": "ayjj56_uX8bn",
        "outputId": "ab9fb455-d3bc-400b-8f65-96e13ef6aa20"
      },
      "execution_count": 15,
      "outputs": [
        {
          "output_type": "execute_result",
          "data": {
            "text/plain": [
              "  advertisement_id  action\n",
              "0                B       1\n",
              "1                B       1\n",
              "2                A       0\n",
              "3                B       0\n",
              "4                A       1"
            ],
            "text/html": [
              "\n",
              "  <div id=\"df-0201cfec-5726-4d98-a851-0ac3ca6edbdc\">\n",
              "    <div class=\"colab-df-container\">\n",
              "      <div>\n",
              "<style scoped>\n",
              "    .dataframe tbody tr th:only-of-type {\n",
              "        vertical-align: middle;\n",
              "    }\n",
              "\n",
              "    .dataframe tbody tr th {\n",
              "        vertical-align: top;\n",
              "    }\n",
              "\n",
              "    .dataframe thead th {\n",
              "        text-align: right;\n",
              "    }\n",
              "</style>\n",
              "<table border=\"1\" class=\"dataframe\">\n",
              "  <thead>\n",
              "    <tr style=\"text-align: right;\">\n",
              "      <th></th>\n",
              "      <th>advertisement_id</th>\n",
              "      <th>action</th>\n",
              "    </tr>\n",
              "  </thead>\n",
              "  <tbody>\n",
              "    <tr>\n",
              "      <th>0</th>\n",
              "      <td>B</td>\n",
              "      <td>1</td>\n",
              "    </tr>\n",
              "    <tr>\n",
              "      <th>1</th>\n",
              "      <td>B</td>\n",
              "      <td>1</td>\n",
              "    </tr>\n",
              "    <tr>\n",
              "      <th>2</th>\n",
              "      <td>A</td>\n",
              "      <td>0</td>\n",
              "    </tr>\n",
              "    <tr>\n",
              "      <th>3</th>\n",
              "      <td>B</td>\n",
              "      <td>0</td>\n",
              "    </tr>\n",
              "    <tr>\n",
              "      <th>4</th>\n",
              "      <td>A</td>\n",
              "      <td>1</td>\n",
              "    </tr>\n",
              "  </tbody>\n",
              "</table>\n",
              "</div>\n",
              "      <button class=\"colab-df-convert\" onclick=\"convertToInteractive('df-0201cfec-5726-4d98-a851-0ac3ca6edbdc')\"\n",
              "              title=\"Convert this dataframe to an interactive table.\"\n",
              "              style=\"display:none;\">\n",
              "        \n",
              "  <svg xmlns=\"http://www.w3.org/2000/svg\" height=\"24px\"viewBox=\"0 0 24 24\"\n",
              "       width=\"24px\">\n",
              "    <path d=\"M0 0h24v24H0V0z\" fill=\"none\"/>\n",
              "    <path d=\"M18.56 5.44l.94 2.06.94-2.06 2.06-.94-2.06-.94-.94-2.06-.94 2.06-2.06.94zm-11 1L8.5 8.5l.94-2.06 2.06-.94-2.06-.94L8.5 2.5l-.94 2.06-2.06.94zm10 10l.94 2.06.94-2.06 2.06-.94-2.06-.94-.94-2.06-.94 2.06-2.06.94z\"/><path d=\"M17.41 7.96l-1.37-1.37c-.4-.4-.92-.59-1.43-.59-.52 0-1.04.2-1.43.59L10.3 9.45l-7.72 7.72c-.78.78-.78 2.05 0 2.83L4 21.41c.39.39.9.59 1.41.59.51 0 1.02-.2 1.41-.59l7.78-7.78 2.81-2.81c.8-.78.8-2.07 0-2.86zM5.41 20L4 18.59l7.72-7.72 1.47 1.35L5.41 20z\"/>\n",
              "  </svg>\n",
              "      </button>\n",
              "      \n",
              "  <style>\n",
              "    .colab-df-container {\n",
              "      display:flex;\n",
              "      flex-wrap:wrap;\n",
              "      gap: 12px;\n",
              "    }\n",
              "\n",
              "    .colab-df-convert {\n",
              "      background-color: #E8F0FE;\n",
              "      border: none;\n",
              "      border-radius: 50%;\n",
              "      cursor: pointer;\n",
              "      display: none;\n",
              "      fill: #1967D2;\n",
              "      height: 32px;\n",
              "      padding: 0 0 0 0;\n",
              "      width: 32px;\n",
              "    }\n",
              "\n",
              "    .colab-df-convert:hover {\n",
              "      background-color: #E2EBFA;\n",
              "      box-shadow: 0px 1px 2px rgba(60, 64, 67, 0.3), 0px 1px 3px 1px rgba(60, 64, 67, 0.15);\n",
              "      fill: #174EA6;\n",
              "    }\n",
              "\n",
              "    [theme=dark] .colab-df-convert {\n",
              "      background-color: #3B4455;\n",
              "      fill: #D2E3FC;\n",
              "    }\n",
              "\n",
              "    [theme=dark] .colab-df-convert:hover {\n",
              "      background-color: #434B5C;\n",
              "      box-shadow: 0px 1px 3px 1px rgba(0, 0, 0, 0.15);\n",
              "      filter: drop-shadow(0px 1px 2px rgba(0, 0, 0, 0.3));\n",
              "      fill: #FFFFFF;\n",
              "    }\n",
              "  </style>\n",
              "\n",
              "      <script>\n",
              "        const buttonEl =\n",
              "          document.querySelector('#df-0201cfec-5726-4d98-a851-0ac3ca6edbdc button.colab-df-convert');\n",
              "        buttonEl.style.display =\n",
              "          google.colab.kernel.accessAllowed ? 'block' : 'none';\n",
              "\n",
              "        async function convertToInteractive(key) {\n",
              "          const element = document.querySelector('#df-0201cfec-5726-4d98-a851-0ac3ca6edbdc');\n",
              "          const dataTable =\n",
              "            await google.colab.kernel.invokeFunction('convertToInteractive',\n",
              "                                                     [key], {});\n",
              "          if (!dataTable) return;\n",
              "\n",
              "          const docLinkHtml = 'Like what you see? Visit the ' +\n",
              "            '<a target=\"_blank\" href=https://colab.research.google.com/notebooks/data_table.ipynb>data table notebook</a>'\n",
              "            + ' to learn more about interactive tables.';\n",
              "          element.innerHTML = '';\n",
              "          dataTable['output_type'] = 'display_data';\n",
              "          await google.colab.output.renderOutput(dataTable, element);\n",
              "          const docLink = document.createElement('div');\n",
              "          docLink.innerHTML = docLinkHtml;\n",
              "          element.appendChild(docLink);\n",
              "        }\n",
              "      </script>\n",
              "    </div>\n",
              "  </div>\n",
              "  "
            ]
          },
          "metadata": {},
          "execution_count": 15
        }
      ]
    },
    {
      "cell_type": "markdown",
      "source": [
        "2. Separa en dos variables diferentes (dos vectores de datos) los clicks que corresponden al anuncio A y los que corresponden al anuncio B y guárdalos en:\n",
        "\n",
        "df_a  y  df_b"
      ],
      "metadata": {
        "id": "PIkqECK8YQHo"
      }
    },
    {
      "cell_type": "code",
      "source": [
        "df_a = df_src[df_src['advertisement_id'] =='A']\n",
        "df_b = df_src[df_src['advertisement_id'] =='B']\n",
        "\n",
        "\n",
        "\n",
        "N1 = len(df_a)\n",
        "N2 = len(df_b)\n",
        "\n"
      ],
      "metadata": {
        "id": "D4WiShggYSVV"
      },
      "execution_count": 9,
      "outputs": []
    },
    {
      "cell_type": "markdown",
      "source": [
        "3. Selecciona solamente los datos correspondientes a los clicks. Es decir, df_a y df_b deberían ser dos vectores cuyos valores sean solo ceros y unos."
      ],
      "metadata": {
        "id": "Bo7_OVs5YsiX"
      }
    },
    {
      "cell_type": "code",
      "source": [
        "df_a = df_a['action']\n",
        "\n",
        "df_a.head()\n",
        "\n"
      ],
      "metadata": {
        "colab": {
          "base_uri": "https://localhost:8080/"
        },
        "id": "xyPNJvHDYvGE",
        "outputId": "53be2677-d198-4236-8340-7cb2017f6c71"
      },
      "execution_count": 10,
      "outputs": [
        {
          "output_type": "execute_result",
          "data": {
            "text/plain": [
              "2    0\n",
              "4    1\n",
              "5    0\n",
              "7    1\n",
              "9    0\n",
              "Name: action, dtype: int64"
            ]
          },
          "metadata": {},
          "execution_count": 10
        }
      ]
    },
    {
      "cell_type": "code",
      "source": [
        "df_b = df_b['action']\n",
        "\n",
        "df_b.head()"
      ],
      "metadata": {
        "colab": {
          "base_uri": "https://localhost:8080/"
        },
        "id": "SUPOiam7Zv4H",
        "outputId": "0a76fd20-f05a-4e39-b6ee-c1940e714891"
      },
      "execution_count": 11,
      "outputs": [
        {
          "output_type": "execute_result",
          "data": {
            "text/plain": [
              "0    1\n",
              "1    1\n",
              "3    0\n",
              "6    0\n",
              "8    0\n",
              "Name: action, dtype: int64"
            ]
          },
          "metadata": {},
          "execution_count": 11
        }
      ]
    },
    {
      "cell_type": "markdown",
      "source": [
        "4. Realiza una Prueba Z para comparar los promedios de clicks correspondientes a ambos anuncios, es decir, para contrastar:\n",
        "\n",
        "H0: mu_A = mu_B\n",
        "\n",
        "H1: mu_A != mu_B\n",
        "\n",
        "¿Qué p-valor obtienes y cómo interpretas ese resultado?"
      ],
      "metadata": {
        "id": "Knc2BzKEZ-uf"
      }
    },
    {
      "cell_type": "code",
      "source": [
        "ztest(df_a, df_b)"
      ],
      "metadata": {
        "colab": {
          "base_uri": "https://localhost:8080/"
        },
        "id": "pIZni8LAaB0x",
        "outputId": "0c13376c-6c0b-4343-debe-490f6e692c79"
      },
      "execution_count": 12,
      "outputs": [
        {
          "output_type": "execute_result",
          "data": {
            "text/plain": [
              "(-3.2211732138019786, 0.0012766696301529544)"
            ]
          },
          "metadata": {},
          "execution_count": 12
        }
      ]
    },
    {
      "cell_type": "markdown",
      "source": [
        "Interpretación: Dada la hipótesis nula, que mu_a = mu_b, y viendo que el p-valor es menor que el nivel de significación, podemos rechazar esta hipótesis nula."
      ],
      "metadata": {
        "id": "ZQcpIcExaHJc"
      }
    },
    {
      "cell_type": "markdown",
      "source": [
        "5. Realiza una Prueba t con la función \"ttest_ind\" para comparar los promedios de clicks correspondientes a ambos anuncios, es decir, para contrastar:\n",
        "\n",
        "H0: mu_A = mu_B\n",
        "\n",
        "H1: mu_A != mu_B"
      ],
      "metadata": {
        "id": "TjCYNdIVadDJ"
      }
    },
    {
      "cell_type": "code",
      "source": [
        "from scipy.stats.stats import ttest_ind\n",
        "ttest_ind(df_a, df_b)"
      ],
      "metadata": {
        "colab": {
          "base_uri": "https://localhost:8080/"
        },
        "id": "4FkYc0yQajLf",
        "outputId": "d3c93c4f-3c46-4a32-cf98-a1954303897e"
      },
      "execution_count": 13,
      "outputs": [
        {
          "output_type": "execute_result",
          "data": {
            "text/plain": [
              "Ttest_indResult(statistic=-3.2211732138019786, pvalue=0.0012971905467125246)"
            ]
          },
          "metadata": {},
          "execution_count": 13
        }
      ]
    },
    {
      "cell_type": "markdown",
      "source": [
        "Interpretación: al igual que en el caso 4, el p-valor es menor que el nivel de significación, rechazando la hipótesis nula."
      ],
      "metadata": {
        "id": "WeiUfQA-avjG"
      }
    },
    {
      "cell_type": "markdown",
      "source": [
        "6. ¿Los p-valores de ambos resultados son similares? ¿Qué explicación tiene esto?\n"
      ],
      "metadata": {
        "id": "6OXA2YY0a4zl"
      }
    }
  ]
}